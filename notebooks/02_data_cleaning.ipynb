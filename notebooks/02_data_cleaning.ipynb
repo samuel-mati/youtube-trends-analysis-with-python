{
 "cells": [
  {
   "cell_type": "markdown",
   "id": "d499bb46-a3b8-4a29-866f-2ea80e0ba608",
   "metadata": {},
   "source": [
    "## Part 2: Data Cleaning\n",
    "\n",
    "### Purpose\n",
    "This notebook cleans and transforms the raw YouTube trending videos dataset  \n",
    "collected in **01_data_collection.ipynb** to prepare it for analysis.\n",
    "\n",
    "---\n",
    "\n",
    "### Steps\n",
    "1. Load the raw dataset.\n",
    "2. Add a `video_url` column from `video_id`.\n",
    "3. Convert `published_at` to datetime and extract time-based features.\n",
    "4. Ensure numerical columns are stored as integers.\n",
    "5. Clean and standardize text fields.\n",
    "6. Remove duplicates if necessary.\n",
    "7. Save the cleaned dataset to `data/processed/`.\n",
    "\n",
    "### Input\n",
    "- `data/raw/trending_videos_ke.csv`\n",
    "\n",
    "### Output\n",
    "- `data/processed/trending_videos_ke_clean.csv`\n"
   ]
  },
  {
   "cell_type": "markdown",
   "id": "48a79a90-7f96-4a39-b2c0-f08670c175ae",
   "metadata": {},
   "source": [
    "#### Step 1. Import All Required libraries"
   ]
  },
  {
   "cell_type": "code",
   "execution_count": 1,
   "id": "1b1c59c0-19c4-4317-a7c7-128a10417777",
   "metadata": {},
   "outputs": [],
   "source": [
    "import pandas as pd\n",
    "import numpy as np\n",
    "\n",
    "from datetime import datetime\n",
    "import os"
   ]
  },
  {
   "cell_type": "markdown",
   "id": "2ae89ef2-c3bd-4563-a2d9-55b701788fcf",
   "metadata": {},
   "source": [
    "#### Load the raw dataset"
   ]
  },
  {
   "cell_type": "code",
   "execution_count": 2,
   "id": "d878ea02-dd5a-4c7c-81c4-40083eb0ff6c",
   "metadata": {},
   "outputs": [
    {
     "data": {
      "text/html": [
       "<div>\n",
       "<style scoped>\n",
       "    .dataframe tbody tr th:only-of-type {\n",
       "        vertical-align: middle;\n",
       "    }\n",
       "\n",
       "    .dataframe tbody tr th {\n",
       "        vertical-align: top;\n",
       "    }\n",
       "\n",
       "    .dataframe thead th {\n",
       "        text-align: right;\n",
       "    }\n",
       "</style>\n",
       "<table border=\"1\" class=\"dataframe\">\n",
       "  <thead>\n",
       "    <tr style=\"text-align: right;\">\n",
       "      <th></th>\n",
       "      <th>video_id</th>\n",
       "      <th>title</th>\n",
       "      <th>description</th>\n",
       "      <th>published_at</th>\n",
       "      <th>channel_id</th>\n",
       "      <th>channel_title</th>\n",
       "      <th>category_id</th>\n",
       "      <th>category_name</th>\n",
       "      <th>tags</th>\n",
       "      <th>duration</th>\n",
       "      <th>definition</th>\n",
       "      <th>caption</th>\n",
       "      <th>view_count</th>\n",
       "      <th>like_count</th>\n",
       "      <th>favorite_count</th>\n",
       "      <th>comment_count</th>\n",
       "    </tr>\n",
       "  </thead>\n",
       "  <tbody>\n",
       "    <tr>\n",
       "      <th>0</th>\n",
       "      <td>R9f4GST2yQQ</td>\n",
       "      <td>Zuchu - Amanda (Visualizer)</td>\n",
       "      <td>Get #Amanda Now 👇🏼\\nhttps://zuchu.lnk.to/amand...</td>\n",
       "      <td>2025-08-01T09:57:57Z</td>\n",
       "      <td>UCOn8zDM533kqzhIA8c3NFbQ</td>\n",
       "      <td>Zuchu</td>\n",
       "      <td>10</td>\n",
       "      <td>Music</td>\n",
       "      <td>['diamond platnumz', 'wana', 'kwaru', 'hakuna ...</td>\n",
       "      <td>PT2M39S</td>\n",
       "      <td>hd</td>\n",
       "      <td>False</td>\n",
       "      <td>880369</td>\n",
       "      <td>22857</td>\n",
       "      <td>0</td>\n",
       "      <td>2280</td>\n",
       "    </tr>\n",
       "    <tr>\n",
       "      <th>1</th>\n",
       "      <td>nb_fFj_0rq8</td>\n",
       "      <td>Avatar: Fire and Ash | Official Trailer</td>\n",
       "      <td>From Director James Cameron, watch the trailer...</td>\n",
       "      <td>2025-07-28T15:00:09Z</td>\n",
       "      <td>UCgjxQJ6TlKqhHax8742ZMdA</td>\n",
       "      <td>Avatar</td>\n",
       "      <td>24</td>\n",
       "      <td>Entertainment</td>\n",
       "      <td>[]</td>\n",
       "      <td>PT2M26S</td>\n",
       "      <td>hd</td>\n",
       "      <td>True</td>\n",
       "      <td>19113385</td>\n",
       "      <td>507686</td>\n",
       "      <td>0</td>\n",
       "      <td>28335</td>\n",
       "    </tr>\n",
       "    <tr>\n",
       "      <th>2</th>\n",
       "      <td>nYH0vXWZ69k</td>\n",
       "      <td>Live : Kenya vs D.R. Congo | African Nations C...</td>\n",
       "      <td>Live : Kenya vs D.R. Congo | African Nations C...</td>\n",
       "      <td>2025-08-03T16:18:41Z</td>\n",
       "      <td>UC4P_ujgWcdjfNW2z5eQVMyg</td>\n",
       "      <td>Asm Power Gamer</td>\n",
       "      <td>20</td>\n",
       "      <td>Gaming</td>\n",
       "      <td>['kenya vs dr congo live football', 'kenya dr ...</td>\n",
       "      <td>PT3H23M15S</td>\n",
       "      <td>hd</td>\n",
       "      <td>False</td>\n",
       "      <td>309576</td>\n",
       "      <td>714</td>\n",
       "      <td>0</td>\n",
       "      <td>2</td>\n",
       "    </tr>\n",
       "    <tr>\n",
       "      <th>3</th>\n",
       "      <td>qZgEdZFzkVc</td>\n",
       "      <td>MATATA ft. MEJJA - TIKI TAKO [Official Music V...</td>\n",
       "      <td>Matata ft. Mejja – Tikitako (Official Music Vi...</td>\n",
       "      <td>2025-07-25T05:23:48Z</td>\n",
       "      <td>UCJ2XnwRKT0ksT9E1lri1wlg</td>\n",
       "      <td>MATATA OFFICIAL</td>\n",
       "      <td>10</td>\n",
       "      <td>Music</td>\n",
       "      <td>['Matata ft mejja', 'matata tikitako', 'tiki t...</td>\n",
       "      <td>PT4M2S</td>\n",
       "      <td>hd</td>\n",
       "      <td>False</td>\n",
       "      <td>1035173</td>\n",
       "      <td>21736</td>\n",
       "      <td>0</td>\n",
       "      <td>1189</td>\n",
       "    </tr>\n",
       "    <tr>\n",
       "      <th>4</th>\n",
       "      <td>5r-7eWDBc40</td>\n",
       "      <td>GOAT - Official Teaser Trailer (HD)</td>\n",
       "      <td>You’re never too small to dream big.\\n\\nFrom t...</td>\n",
       "      <td>2025-07-30T12:59:45Z</td>\n",
       "      <td>UCz97F7dMxBNOfGYu3rx8aCw</td>\n",
       "      <td>Sony Pictures Entertainment</td>\n",
       "      <td>24</td>\n",
       "      <td>Entertainment</td>\n",
       "      <td>[]</td>\n",
       "      <td>PT2M14S</td>\n",
       "      <td>hd</td>\n",
       "      <td>True</td>\n",
       "      <td>27193369</td>\n",
       "      <td>110500</td>\n",
       "      <td>0</td>\n",
       "      <td>7541</td>\n",
       "    </tr>\n",
       "  </tbody>\n",
       "</table>\n",
       "</div>"
      ],
      "text/plain": [
       "      video_id                                              title  \\\n",
       "0  R9f4GST2yQQ                        Zuchu - Amanda (Visualizer)   \n",
       "1  nb_fFj_0rq8            Avatar: Fire and Ash | Official Trailer   \n",
       "2  nYH0vXWZ69k  Live : Kenya vs D.R. Congo | African Nations C...   \n",
       "3  qZgEdZFzkVc  MATATA ft. MEJJA - TIKI TAKO [Official Music V...   \n",
       "4  5r-7eWDBc40                GOAT - Official Teaser Trailer (HD)   \n",
       "\n",
       "                                         description          published_at  \\\n",
       "0  Get #Amanda Now 👇🏼\\nhttps://zuchu.lnk.to/amand...  2025-08-01T09:57:57Z   \n",
       "1  From Director James Cameron, watch the trailer...  2025-07-28T15:00:09Z   \n",
       "2  Live : Kenya vs D.R. Congo | African Nations C...  2025-08-03T16:18:41Z   \n",
       "3  Matata ft. Mejja – Tikitako (Official Music Vi...  2025-07-25T05:23:48Z   \n",
       "4  You’re never too small to dream big.\\n\\nFrom t...  2025-07-30T12:59:45Z   \n",
       "\n",
       "                 channel_id                channel_title  category_id  \\\n",
       "0  UCOn8zDM533kqzhIA8c3NFbQ                        Zuchu           10   \n",
       "1  UCgjxQJ6TlKqhHax8742ZMdA                       Avatar           24   \n",
       "2  UC4P_ujgWcdjfNW2z5eQVMyg              Asm Power Gamer           20   \n",
       "3  UCJ2XnwRKT0ksT9E1lri1wlg              MATATA OFFICIAL           10   \n",
       "4  UCz97F7dMxBNOfGYu3rx8aCw  Sony Pictures Entertainment           24   \n",
       "\n",
       "   category_name                                               tags  \\\n",
       "0          Music  ['diamond platnumz', 'wana', 'kwaru', 'hakuna ...   \n",
       "1  Entertainment                                                 []   \n",
       "2         Gaming  ['kenya vs dr congo live football', 'kenya dr ...   \n",
       "3          Music  ['Matata ft mejja', 'matata tikitako', 'tiki t...   \n",
       "4  Entertainment                                                 []   \n",
       "\n",
       "     duration definition  caption  view_count  like_count  favorite_count  \\\n",
       "0     PT2M39S         hd    False      880369       22857               0   \n",
       "1     PT2M26S         hd     True    19113385      507686               0   \n",
       "2  PT3H23M15S         hd    False      309576         714               0   \n",
       "3      PT4M2S         hd    False     1035173       21736               0   \n",
       "4     PT2M14S         hd     True    27193369      110500               0   \n",
       "\n",
       "   comment_count  \n",
       "0           2280  \n",
       "1          28335  \n",
       "2              2  \n",
       "3           1189  \n",
       "4           7541  "
      ]
     },
     "execution_count": 2,
     "metadata": {},
     "output_type": "execute_result"
    }
   ],
   "source": [
    "df= pd.read_csv('data/raw/trending_videos_ke.csv')\n",
    "\n",
    "df.head(5)"
   ]
  },
  {
   "cell_type": "markdown",
   "id": "b0cce6c0-061a-4b54-ae8c-7fb4aa695e64",
   "metadata": {},
   "source": [
    "#### Step 3. Cleaning & Transformation\n",
    "\n",
    "**Part A:** Generate `video_url` from `video_id`"
   ]
  },
  {
   "cell_type": "code",
   "execution_count": 3,
   "id": "e07087ee-312f-4cc9-9277-bbc8cf74dbb1",
   "metadata": {},
   "outputs": [
    {
     "data": {
      "text/html": [
       "<div>\n",
       "<style scoped>\n",
       "    .dataframe tbody tr th:only-of-type {\n",
       "        vertical-align: middle;\n",
       "    }\n",
       "\n",
       "    .dataframe tbody tr th {\n",
       "        vertical-align: top;\n",
       "    }\n",
       "\n",
       "    .dataframe thead th {\n",
       "        text-align: right;\n",
       "    }\n",
       "</style>\n",
       "<table border=\"1\" class=\"dataframe\">\n",
       "  <thead>\n",
       "    <tr style=\"text-align: right;\">\n",
       "      <th></th>\n",
       "      <th>video_id</th>\n",
       "      <th>video_url</th>\n",
       "    </tr>\n",
       "  </thead>\n",
       "  <tbody>\n",
       "    <tr>\n",
       "      <th>0</th>\n",
       "      <td>R9f4GST2yQQ</td>\n",
       "      <td>https://www.youtube.com/watch?v=R9f4GST2yQQ</td>\n",
       "    </tr>\n",
       "    <tr>\n",
       "      <th>1</th>\n",
       "      <td>nb_fFj_0rq8</td>\n",
       "      <td>https://www.youtube.com/watch?v=nb_fFj_0rq8</td>\n",
       "    </tr>\n",
       "    <tr>\n",
       "      <th>2</th>\n",
       "      <td>nYH0vXWZ69k</td>\n",
       "      <td>https://www.youtube.com/watch?v=nYH0vXWZ69k</td>\n",
       "    </tr>\n",
       "  </tbody>\n",
       "</table>\n",
       "</div>"
      ],
      "text/plain": [
       "      video_id                                    video_url\n",
       "0  R9f4GST2yQQ  https://www.youtube.com/watch?v=R9f4GST2yQQ\n",
       "1  nb_fFj_0rq8  https://www.youtube.com/watch?v=nb_fFj_0rq8\n",
       "2  nYH0vXWZ69k  https://www.youtube.com/watch?v=nYH0vXWZ69k"
      ]
     },
     "execution_count": 3,
     "metadata": {},
     "output_type": "execute_result"
    }
   ],
   "source": [
    "# Generate full video url using the video_id\n",
    "df['video_url']= \"https://www.youtube.com/watch?v=\" + df['video_id']\n",
    "\n",
    "df[['video_id','video_url']].head(3)"
   ]
  },
  {
   "cell_type": "markdown",
   "id": "36b8e221-d706-40c2-bca3-cd8dc01d3ab1",
   "metadata": {},
   "source": [
    "**Part B:** Convert `published_at` to datetime and extract time-based features"
   ]
  },
  {
   "cell_type": "code",
   "execution_count": 4,
   "id": "f583f17a-5567-49f9-a71b-2dbe6faadc3c",
   "metadata": {},
   "outputs": [],
   "source": [
    "# Convert published_at to datetime\n",
    "df['published_at'] = pd.to_datetime(df['published_at'], errors='coerce')"
   ]
  },
  {
   "cell_type": "code",
   "execution_count": 5,
   "id": "a5030490-2bed-4398-a5c7-67579ce8413d",
   "metadata": {},
   "outputs": [],
   "source": [
    "# Extract date only\n",
    "df['publish_date'] = df['published_at'].dt.date"
   ]
  },
  {
   "cell_type": "code",
   "execution_count": 6,
   "id": "ebb1f3f2-2d07-4979-9c3c-d875a9cc99f6",
   "metadata": {},
   "outputs": [],
   "source": [
    "# Get time only\n",
    "df['publish_time'] = df['published_at'].dt.time"
   ]
  },
  {
   "cell_type": "code",
   "execution_count": 7,
   "id": "6ec55999-64f2-447d-9185-52dcc833a8b2",
   "metadata": {},
   "outputs": [],
   "source": [
    "# Get day of week (Monday, Tuesday, etc.)\n",
    "df['day_of_week'] = df['published_at'].dt.day_name()"
   ]
  },
  {
   "cell_type": "code",
   "execution_count": 8,
   "id": "8150aa95-97e5-49be-8c84-b54908c06e0f",
   "metadata": {},
   "outputs": [],
   "source": [
    "# Get hour (0-23)\n",
    "df['hour'] = df['published_at'].dt.hour"
   ]
  },
  {
   "cell_type": "code",
   "execution_count": 9,
   "id": "47335775-0e1e-4e2a-b582-17df73cd4185",
   "metadata": {},
   "outputs": [
    {
     "data": {
      "text/html": [
       "<div>\n",
       "<style scoped>\n",
       "    .dataframe tbody tr th:only-of-type {\n",
       "        vertical-align: middle;\n",
       "    }\n",
       "\n",
       "    .dataframe tbody tr th {\n",
       "        vertical-align: top;\n",
       "    }\n",
       "\n",
       "    .dataframe thead th {\n",
       "        text-align: right;\n",
       "    }\n",
       "</style>\n",
       "<table border=\"1\" class=\"dataframe\">\n",
       "  <thead>\n",
       "    <tr style=\"text-align: right;\">\n",
       "      <th></th>\n",
       "      <th>published_at</th>\n",
       "      <th>publish_date</th>\n",
       "      <th>publish_time</th>\n",
       "      <th>day_of_week</th>\n",
       "      <th>hour</th>\n",
       "    </tr>\n",
       "  </thead>\n",
       "  <tbody>\n",
       "    <tr>\n",
       "      <th>0</th>\n",
       "      <td>2025-08-01 09:57:57+00:00</td>\n",
       "      <td>2025-08-01</td>\n",
       "      <td>09:57:57</td>\n",
       "      <td>Friday</td>\n",
       "      <td>9</td>\n",
       "    </tr>\n",
       "    <tr>\n",
       "      <th>1</th>\n",
       "      <td>2025-07-28 15:00:09+00:00</td>\n",
       "      <td>2025-07-28</td>\n",
       "      <td>15:00:09</td>\n",
       "      <td>Monday</td>\n",
       "      <td>15</td>\n",
       "    </tr>\n",
       "    <tr>\n",
       "      <th>2</th>\n",
       "      <td>2025-08-03 16:18:41+00:00</td>\n",
       "      <td>2025-08-03</td>\n",
       "      <td>16:18:41</td>\n",
       "      <td>Sunday</td>\n",
       "      <td>16</td>\n",
       "    </tr>\n",
       "    <tr>\n",
       "      <th>3</th>\n",
       "      <td>2025-07-25 05:23:48+00:00</td>\n",
       "      <td>2025-07-25</td>\n",
       "      <td>05:23:48</td>\n",
       "      <td>Friday</td>\n",
       "      <td>5</td>\n",
       "    </tr>\n",
       "    <tr>\n",
       "      <th>4</th>\n",
       "      <td>2025-07-30 12:59:45+00:00</td>\n",
       "      <td>2025-07-30</td>\n",
       "      <td>12:59:45</td>\n",
       "      <td>Wednesday</td>\n",
       "      <td>12</td>\n",
       "    </tr>\n",
       "  </tbody>\n",
       "</table>\n",
       "</div>"
      ],
      "text/plain": [
       "               published_at publish_date publish_time day_of_week  hour\n",
       "0 2025-08-01 09:57:57+00:00   2025-08-01     09:57:57      Friday     9\n",
       "1 2025-07-28 15:00:09+00:00   2025-07-28     15:00:09      Monday    15\n",
       "2 2025-08-03 16:18:41+00:00   2025-08-03     16:18:41      Sunday    16\n",
       "3 2025-07-25 05:23:48+00:00   2025-07-25     05:23:48      Friday     5\n",
       "4 2025-07-30 12:59:45+00:00   2025-07-30     12:59:45   Wednesday    12"
      ]
     },
     "execution_count": 9,
     "metadata": {},
     "output_type": "execute_result"
    }
   ],
   "source": [
    "# Changes made\n",
    "df[['published_at', 'publish_date', 'publish_time', 'day_of_week', 'hour']].head()"
   ]
  },
  {
   "cell_type": "markdown",
   "id": "dc6e9969-6f16-4f82-a681-900325f25efa",
   "metadata": {},
   "source": [
    "**Part C:** Convert numeric columns to integers\n"
   ]
  },
  {
   "cell_type": "code",
   "execution_count": 10,
   "id": "49beb651-d9ab-4016-9241-542fdcbffcbc",
   "metadata": {},
   "outputs": [],
   "source": [
    "# List of numeric columns to be  converted\n",
    "numeric_cols = ['view_count', 'like_count', 'favorite_count', 'comment_count']\n"
   ]
  },
  {
   "cell_type": "code",
   "execution_count": 11,
   "id": "583ca85d-5338-454b-b6d8-3ff33d6f7add",
   "metadata": {},
   "outputs": [
    {
     "data": {
      "text/html": [
       "<div>\n",
       "<style scoped>\n",
       "    .dataframe tbody tr th:only-of-type {\n",
       "        vertical-align: middle;\n",
       "    }\n",
       "\n",
       "    .dataframe tbody tr th {\n",
       "        vertical-align: top;\n",
       "    }\n",
       "\n",
       "    .dataframe thead th {\n",
       "        text-align: right;\n",
       "    }\n",
       "</style>\n",
       "<table border=\"1\" class=\"dataframe\">\n",
       "  <thead>\n",
       "    <tr style=\"text-align: right;\">\n",
       "      <th></th>\n",
       "      <th>view_count</th>\n",
       "      <th>like_count</th>\n",
       "      <th>favorite_count</th>\n",
       "      <th>comment_count</th>\n",
       "    </tr>\n",
       "  </thead>\n",
       "  <tbody>\n",
       "    <tr>\n",
       "      <th>0</th>\n",
       "      <td>880369</td>\n",
       "      <td>22857</td>\n",
       "      <td>0</td>\n",
       "      <td>2280</td>\n",
       "    </tr>\n",
       "    <tr>\n",
       "      <th>1</th>\n",
       "      <td>19113385</td>\n",
       "      <td>507686</td>\n",
       "      <td>0</td>\n",
       "      <td>28335</td>\n",
       "    </tr>\n",
       "    <tr>\n",
       "      <th>2</th>\n",
       "      <td>309576</td>\n",
       "      <td>714</td>\n",
       "      <td>0</td>\n",
       "      <td>2</td>\n",
       "    </tr>\n",
       "    <tr>\n",
       "      <th>3</th>\n",
       "      <td>1035173</td>\n",
       "      <td>21736</td>\n",
       "      <td>0</td>\n",
       "      <td>1189</td>\n",
       "    </tr>\n",
       "    <tr>\n",
       "      <th>4</th>\n",
       "      <td>27193369</td>\n",
       "      <td>110500</td>\n",
       "      <td>0</td>\n",
       "      <td>7541</td>\n",
       "    </tr>\n",
       "  </tbody>\n",
       "</table>\n",
       "</div>"
      ],
      "text/plain": [
       "   view_count  like_count  favorite_count  comment_count\n",
       "0      880369       22857               0           2280\n",
       "1    19113385      507686               0          28335\n",
       "2      309576         714               0              2\n",
       "3     1035173       21736               0           1189\n",
       "4    27193369      110500               0           7541"
      ]
     },
     "execution_count": 11,
     "metadata": {},
     "output_type": "execute_result"
    }
   ],
   "source": [
    "for col in numeric_cols:\n",
    "    df[col]=pd.to_numeric(df[col], errors='coerce')\n",
    "\n",
    "df[numeric_cols].head(5)"
   ]
  },
  {
   "cell_type": "markdown",
   "id": "ee31600b-dc55-411f-9326-6f04dbf1f836",
   "metadata": {},
   "source": [
    "**Part D:** Convert `duration` from ISO 8601 format to total seconds and readable time"
   ]
  },
  {
   "cell_type": "code",
   "execution_count": 18,
   "id": "126ca7ab-dc03-4401-a1ec-93b8a1aaa0c8",
   "metadata": {},
   "outputs": [
    {
     "name": "stdout",
     "output_type": "stream",
     "text": [
      "Collecting isodate\n",
      "  Using cached isodate-0.7.2-py3-none-any.whl.metadata (11 kB)\n",
      "Using cached isodate-0.7.2-py3-none-any.whl (22 kB)\n",
      "Installing collected packages: isodate\n",
      "Successfully installed isodate-0.7.2\n",
      "Note: you may need to restart the kernel to use updated packages.\n"
     ]
    }
   ],
   "source": [
    "pip install isodate"
   ]
  },
  {
   "cell_type": "code",
   "execution_count": 12,
   "id": "8355bc34-2941-40c6-af17-376c13161296",
   "metadata": {},
   "outputs": [],
   "source": [
    "import isodate"
   ]
  },
  {
   "cell_type": "code",
   "execution_count": 13,
   "id": "1bdb54d3-ea5c-4e74-b62a-00e6cd69158e",
   "metadata": {},
   "outputs": [],
   "source": [
    "def convert_duration_to_seconds(duration_str):\n",
    "    \"\"\"\n",
    "    Converts YouTube API ISO 8601 duration (e.g., 'PT2M39S') to total seconds.\n",
    "    Returns None if input is NaN or invalid.\n",
    "    \"\"\"\n",
    "    if pd.isnull(duration_str):\n",
    "        return None\n",
    "    try:\n",
    "        return int(isodate.parse_duration(duration_str).total_seconds())\n",
    "    except:\n",
    "        return None"
   ]
  },
  {
   "cell_type": "code",
   "execution_count": 14,
   "id": "2c43a74f-5e9c-42b4-a20d-87d6ddfb65cb",
   "metadata": {},
   "outputs": [
    {
     "data": {
      "text/html": [
       "<div>\n",
       "<style scoped>\n",
       "    .dataframe tbody tr th:only-of-type {\n",
       "        vertical-align: middle;\n",
       "    }\n",
       "\n",
       "    .dataframe tbody tr th {\n",
       "        vertical-align: top;\n",
       "    }\n",
       "\n",
       "    .dataframe thead th {\n",
       "        text-align: right;\n",
       "    }\n",
       "</style>\n",
       "<table border=\"1\" class=\"dataframe\">\n",
       "  <thead>\n",
       "    <tr style=\"text-align: right;\">\n",
       "      <th></th>\n",
       "      <th>duration</th>\n",
       "      <th>duration_seconds</th>\n",
       "      <th>duration_minutes</th>\n",
       "    </tr>\n",
       "  </thead>\n",
       "  <tbody>\n",
       "    <tr>\n",
       "      <th>0</th>\n",
       "      <td>PT2M39S</td>\n",
       "      <td>159</td>\n",
       "      <td>2.650000</td>\n",
       "    </tr>\n",
       "    <tr>\n",
       "      <th>1</th>\n",
       "      <td>PT2M26S</td>\n",
       "      <td>146</td>\n",
       "      <td>2.433333</td>\n",
       "    </tr>\n",
       "    <tr>\n",
       "      <th>2</th>\n",
       "      <td>PT3H23M15S</td>\n",
       "      <td>12195</td>\n",
       "      <td>203.250000</td>\n",
       "    </tr>\n",
       "    <tr>\n",
       "      <th>3</th>\n",
       "      <td>PT4M2S</td>\n",
       "      <td>242</td>\n",
       "      <td>4.033333</td>\n",
       "    </tr>\n",
       "    <tr>\n",
       "      <th>4</th>\n",
       "      <td>PT2M14S</td>\n",
       "      <td>134</td>\n",
       "      <td>2.233333</td>\n",
       "    </tr>\n",
       "  </tbody>\n",
       "</table>\n",
       "</div>"
      ],
      "text/plain": [
       "     duration  duration_seconds  duration_minutes\n",
       "0     PT2M39S               159          2.650000\n",
       "1     PT2M26S               146          2.433333\n",
       "2  PT3H23M15S             12195        203.250000\n",
       "3      PT4M2S               242          4.033333\n",
       "4     PT2M14S               134          2.233333"
      ]
     },
     "execution_count": 14,
     "metadata": {},
     "output_type": "execute_result"
    }
   ],
   "source": [
    "# Apply conversion to seconds\n",
    "df['duration_seconds'] = df['duration'].apply(convert_duration_to_seconds)\n",
    "\n",
    "# Convert seconds to minutes (rounded to 2 decimal places)\n",
    "df['duration_minutes'] = df['duration_seconds'] / 60\n",
    "\n",
    "# Preview\n",
    "df[['duration', 'duration_seconds', 'duration_minutes']].head()"
   ]
  },
  {
   "cell_type": "markdown",
   "id": "e28db7f6-91d1-42aa-821f-d6777a59f4fc",
   "metadata": {},
   "source": [
    "**Part E(i):** Clean text encoding issues in `description`"
   ]
  },
  {
   "cell_type": "code",
   "execution_count": 15,
   "id": "118a592c-5174-4e01-bbb9-551a4281acd0",
   "metadata": {},
   "outputs": [],
   "source": [
    "# Function to fix bad encoding in text\n",
    "def clean_text_encoding(text):\n",
    "    \"\"\"\n",
    "    Fixes common text encoding issues (UTF-8 misinterpretation)\n",
    "    and removes excessive whitespace.\n",
    "    \"\"\"\n",
    "    if pd.isnull(text):\n",
    "        return text\n",
    "    try:\n",
    "        # Fix misencoded UTF-8\n",
    "        fixed_text = text.encode('latin1').decode('utf-8')\n",
    "    except:\n",
    "        fixed_text = text  # If decoding fails, keep the original text\n",
    "\n",
    "    # Remove excessive spaces and newlines\n",
    "    fixed_text = \" \".join(fixed_text.split())\n",
    "\n",
    "    return fixed_text"
   ]
  },
  {
   "cell_type": "code",
   "execution_count": 16,
   "id": "903746fe-63cf-4a47-9956-366b6ea3a77b",
   "metadata": {},
   "outputs": [],
   "source": [
    "# Apply the function to description column\n",
    "df['description'] = df['description'].apply(clean_text_encoding)"
   ]
  },
  {
   "cell_type": "code",
   "execution_count": 17,
   "id": "7be765a1-3178-4e4b-bfad-6660e4a09eb9",
   "metadata": {},
   "outputs": [
    {
     "data": {
      "text/html": [
       "<div>\n",
       "<style scoped>\n",
       "    .dataframe tbody tr th:only-of-type {\n",
       "        vertical-align: middle;\n",
       "    }\n",
       "\n",
       "    .dataframe tbody tr th {\n",
       "        vertical-align: top;\n",
       "    }\n",
       "\n",
       "    .dataframe thead th {\n",
       "        text-align: right;\n",
       "    }\n",
       "</style>\n",
       "<table border=\"1\" class=\"dataframe\">\n",
       "  <thead>\n",
       "    <tr style=\"text-align: right;\">\n",
       "      <th></th>\n",
       "      <th>description</th>\n",
       "    </tr>\n",
       "  </thead>\n",
       "  <tbody>\n",
       "    <tr>\n",
       "      <th>0</th>\n",
       "      <td>Get #Amanda Now 👇🏼 https://zuchu.lnk.to/amanda...</td>\n",
       "    </tr>\n",
       "    <tr>\n",
       "      <th>1</th>\n",
       "      <td>From Director James Cameron, watch the trailer...</td>\n",
       "    </tr>\n",
       "    <tr>\n",
       "      <th>2</th>\n",
       "      <td>Live : Kenya vs D.R. Congo | African Nations C...</td>\n",
       "    </tr>\n",
       "    <tr>\n",
       "      <th>3</th>\n",
       "      <td>Matata ft. Mejja – Tikitako (Official Music Vi...</td>\n",
       "    </tr>\n",
       "    <tr>\n",
       "      <th>4</th>\n",
       "      <td>You’re never too small to dream big. From the ...</td>\n",
       "    </tr>\n",
       "  </tbody>\n",
       "</table>\n",
       "</div>"
      ],
      "text/plain": [
       "                                         description\n",
       "0  Get #Amanda Now 👇🏼 https://zuchu.lnk.to/amanda...\n",
       "1  From Director James Cameron, watch the trailer...\n",
       "2  Live : Kenya vs D.R. Congo | African Nations C...\n",
       "3  Matata ft. Mejja – Tikitako (Official Music Vi...\n",
       "4  You’re never too small to dream big. From the ..."
      ]
     },
     "execution_count": 17,
     "metadata": {},
     "output_type": "execute_result"
    }
   ],
   "source": [
    "df[['description']].head(5)"
   ]
  },
  {
   "cell_type": "markdown",
   "id": "937bfff6-9864-49a8-9f5d-a2ab8ab70a98",
   "metadata": {},
   "source": [
    "**Part E(ii):** Remove trailing/leading spaces in `title` and `tags`"
   ]
  },
  {
   "cell_type": "code",
   "execution_count": 18,
   "id": "361a9535-7420-43d4-b59c-1e0096e5dd06",
   "metadata": {},
   "outputs": [],
   "source": [
    "df['title'] = df['title'].apply(clean_text_encoding)"
   ]
  },
  {
   "cell_type": "code",
   "execution_count": 19,
   "id": "193b012d-6818-4dc6-a7b9-5473806d1572",
   "metadata": {},
   "outputs": [],
   "source": [
    "# --- Function to strip spaces from tags ---\n",
    "def strip_spaces_from_tags(tags):\n",
    "    \"\"\"\n",
    "    Strips leading/trailing spaces from each tag if tags is a list.\n",
    "    \"\"\"\n",
    "    if isinstance(tags, list):\n",
    "        return [tag.strip() for tag in tags]\n",
    "    return tags\n",
    "\n",
    "# Apply to tags column\n",
    "df['tags'] = df['tags'].apply(strip_spaces_from_tags)\n"
   ]
  },
  {
   "cell_type": "code",
   "execution_count": 20,
   "id": "23555477-ef9e-4fea-a509-fc8051fe201a",
   "metadata": {},
   "outputs": [
    {
     "data": {
      "text/html": [
       "<div>\n",
       "<style scoped>\n",
       "    .dataframe tbody tr th:only-of-type {\n",
       "        vertical-align: middle;\n",
       "    }\n",
       "\n",
       "    .dataframe tbody tr th {\n",
       "        vertical-align: top;\n",
       "    }\n",
       "\n",
       "    .dataframe thead th {\n",
       "        text-align: right;\n",
       "    }\n",
       "</style>\n",
       "<table border=\"1\" class=\"dataframe\">\n",
       "  <thead>\n",
       "    <tr style=\"text-align: right;\">\n",
       "      <th></th>\n",
       "      <th>title</th>\n",
       "      <th>tags</th>\n",
       "    </tr>\n",
       "  </thead>\n",
       "  <tbody>\n",
       "    <tr>\n",
       "      <th>0</th>\n",
       "      <td>Zuchu - Amanda (Visualizer)</td>\n",
       "      <td>['diamond platnumz', 'wana', 'kwaru', 'hakuna ...</td>\n",
       "    </tr>\n",
       "    <tr>\n",
       "      <th>1</th>\n",
       "      <td>Avatar: Fire and Ash | Official Trailer</td>\n",
       "      <td>[]</td>\n",
       "    </tr>\n",
       "    <tr>\n",
       "      <th>2</th>\n",
       "      <td>Live : Kenya vs D.R. Congo | African Nations C...</td>\n",
       "      <td>['kenya vs dr congo live football', 'kenya dr ...</td>\n",
       "    </tr>\n",
       "  </tbody>\n",
       "</table>\n",
       "</div>"
      ],
      "text/plain": [
       "                                               title  \\\n",
       "0                        Zuchu - Amanda (Visualizer)   \n",
       "1            Avatar: Fire and Ash | Official Trailer   \n",
       "2  Live : Kenya vs D.R. Congo | African Nations C...   \n",
       "\n",
       "                                                tags  \n",
       "0  ['diamond platnumz', 'wana', 'kwaru', 'hakuna ...  \n",
       "1                                                 []  \n",
       "2  ['kenya vs dr congo live football', 'kenya dr ...  "
      ]
     },
     "execution_count": 20,
     "metadata": {},
     "output_type": "execute_result"
    }
   ],
   "source": [
    "df[['title', 'tags']].head(3)"
   ]
  },
  {
   "cell_type": "code",
   "execution_count": 21,
   "id": "f736e401-0edf-45dc-806e-21b48df84dd5",
   "metadata": {},
   "outputs": [
    {
     "data": {
      "text/plain": [
       "video_id            0\n",
       "title               0\n",
       "description         9\n",
       "published_at        0\n",
       "channel_id          0\n",
       "channel_title       0\n",
       "category_id         0\n",
       "category_name       0\n",
       "tags                0\n",
       "duration            0\n",
       "definition          0\n",
       "caption             0\n",
       "view_count          0\n",
       "like_count          0\n",
       "favorite_count      0\n",
       "comment_count       0\n",
       "video_url           0\n",
       "publish_date        0\n",
       "publish_time        0\n",
       "day_of_week         0\n",
       "hour                0\n",
       "duration_seconds    0\n",
       "duration_minutes    0\n",
       "dtype: int64"
      ]
     },
     "execution_count": 21,
     "metadata": {},
     "output_type": "execute_result"
    }
   ],
   "source": [
    "df.isnull().sum()"
   ]
  },
  {
   "cell_type": "markdown",
   "id": "139b9d34-158e-4318-80b4-35739d7d3bf2",
   "metadata": {},
   "source": [
    "#### Step 4. Save cleaned dataset"
   ]
  },
  {
   "cell_type": "code",
   "execution_count": 22,
   "id": "30ceadfa-67ee-436e-941f-3382681811a6",
   "metadata": {},
   "outputs": [
    {
     "data": {
      "text/plain": [
       "Index(['video_id', 'title', 'description', 'published_at', 'channel_id',\n",
       "       'channel_title', 'category_id', 'category_name', 'tags', 'duration',\n",
       "       'definition', 'caption', 'view_count', 'like_count', 'favorite_count',\n",
       "       'comment_count', 'video_url', 'publish_date', 'publish_time',\n",
       "       'day_of_week', 'hour', 'duration_seconds', 'duration_minutes'],\n",
       "      dtype='object')"
      ]
     },
     "execution_count": 22,
     "metadata": {},
     "output_type": "execute_result"
    }
   ],
   "source": [
    "df.columns"
   ]
  },
  {
   "cell_type": "code",
   "execution_count": 23,
   "id": "fa5eeb82-e8f9-4857-9982-e85ddfa584d5",
   "metadata": {},
   "outputs": [],
   "source": [
    "# Reorder columns\n",
    "column_order = [\n",
    "    'video_id', 'video_url' , 'title', 'description', 'published_at', 'publish_date', 'publish_time',\n",
    "    'day_of_week', 'hour','channel_id',\n",
    "    'channel_title', 'category_id', 'category_name', 'tags', 'duration','duration_seconds', 'duration_minutes',\n",
    "    'definition', 'caption', 'view_count', 'like_count', 'favorite_count',\n",
    "    'comment_count'\n",
    "]\n"
   ]
  },
  {
   "cell_type": "code",
   "execution_count": 24,
   "id": "84dfb635-503d-48fb-8249-168a1650ba61",
   "metadata": {},
   "outputs": [],
   "source": [
    "df = df[column_order]"
   ]
  },
  {
   "cell_type": "code",
   "execution_count": 25,
   "id": "7d262e50-1e01-408b-a545-7b47ba73768c",
   "metadata": {},
   "outputs": [],
   "source": [
    "# Define output path\n",
    "output_path = 'data/processed/trending_videos_ke_clean.csv'\n",
    "\n",
    "# Create folder if it doesn't exist\n",
    "os.makedirs(os.path.dirname(output_path), exist_ok=True)"
   ]
  },
  {
   "cell_type": "code",
   "execution_count": 26,
   "id": "f366f3dc-11e8-4264-aade-a6ace2f6a54f",
   "metadata": {},
   "outputs": [
    {
     "name": "stdout",
     "output_type": "stream",
     "text": [
      "Cleaned dataset saved to data/processed/trending_videos_ke_clean.csv\n"
     ]
    }
   ],
   "source": [
    "# Save CSV\n",
    "df.to_csv(output_path, index=False)\n",
    "print(f\"Cleaned dataset saved to {output_path}\")"
   ]
  },
  {
   "cell_type": "code",
   "execution_count": null,
   "id": "5fdc3f77-2b3c-4a34-85e6-79d3c274ade2",
   "metadata": {},
   "outputs": [],
   "source": []
  },
  {
   "cell_type": "code",
   "execution_count": null,
   "id": "9cc8bd36-c67e-4510-a1ff-322e0d04c056",
   "metadata": {},
   "outputs": [],
   "source": []
  },
  {
   "cell_type": "code",
   "execution_count": null,
   "id": "ad8392d1-b5f2-460b-ab0b-6428543f2363",
   "metadata": {},
   "outputs": [],
   "source": []
  }
 ],
 "metadata": {
  "kernelspec": {
   "display_name": "Python 3 (ipykernel)",
   "language": "python",
   "name": "python3"
  },
  "language_info": {
   "codemirror_mode": {
    "name": "ipython",
    "version": 3
   },
   "file_extension": ".py",
   "mimetype": "text/x-python",
   "name": "python",
   "nbconvert_exporter": "python",
   "pygments_lexer": "ipython3",
   "version": "3.13.5"
  }
 },
 "nbformat": 4,
 "nbformat_minor": 5
}
