{
 "cells": [
  {
   "cell_type": "markdown",
   "id": "31569525-f5b4-454d-b361-b14690b93637",
   "metadata": {},
   "source": [
    "## Part 1: Data Collection\n",
    "### Purpose\n",
    "This notebook collects **YouTube Trending Videos in Kenya** using the **YouTube Data API v3**.  \n",
    "It retrieves video details such as title, description, views, likes, comments, publish date, channel info, and more.\n",
    "\n",
    "### Steps in This Notebook\n",
    "1. **Load API Key** from `.env` file for security.\n",
    "2. **Fetch trending videos** using the `fetch_trending_videos()` function.\n",
    "3. **Paginate** through results to collect more than 50 videos.\n",
    "4. **Save raw data** to `data/raw/trending_videos_ke.csv`.\n",
    "\n",
    "### Functions Overview\n",
    "- **`fetch_trending_videos(api_key, region_code, max_results)`**  \n",
    "  Fetches trending videos and their details from the YouTube API.\n",
    "\n",
    "- **`save_videos_to_csv(videos, filename)`**  \n",
    "  Saves the collected data to a CSV file.\n",
    "\n",
    "- **`run_data_collection()`**  \n",
    "  Orchestrates the data collection process.\n",
    "\n",
    "### Output\n",
    "- **CSV file:** `data/raw/trending_videos_ke.csv`  \n",
    "  Contains the raw video data, which will be used in the next stage: **Data Cleaning**."
   ]
  },
  {
   "cell_type": "code",
   "execution_count": 1,
   "id": "d0013000-d809-4077-b8e7-783d49e58b67",
   "metadata": {},
   "outputs": [],
   "source": [
    "# Imports\n",
    "import os\n",
    "import pandas as pd\n",
    "from googleapiclient.discovery import build\n",
    "from dotenv import load_dotenv"
   ]
  },
  {
   "cell_type": "code",
   "execution_count": 2,
   "id": "31abe6f8-d31f-4e89-a5ee-a082ebc00a97",
   "metadata": {},
   "outputs": [],
   "source": [
    "# Load API Key\n",
    "load_dotenv()\n",
    "API_KEY = os.getenv(\"YOUTUBE_API_KEY\")"
   ]
  },
  {
   "cell_type": "code",
   "execution_count": 3,
   "id": "d0675e08-ae63-4a94-ab84-7d3eb8cb66df",
   "metadata": {},
   "outputs": [],
   "source": [
    "def get_category_mapping(api_key, region_code='KE'):\n",
    "    youtube = build('youtube', 'v3', developerKey=api_key)\n",
    "    request = youtube.videoCategories().list(\n",
    "        part='snippet',\n",
    "        regionCode=region_code\n",
    "    )\n",
    "    response = request.execute()\n",
    "\n",
    "    category_mapping = {}\n",
    "    for item in response['items']:\n",
    "        category_mapping[item['id']] = item['snippet']['title']\n",
    "    \n",
    "    return category_mapping\n"
   ]
  },
  {
   "cell_type": "code",
   "execution_count": 8,
   "id": "2ab5e224-ca4c-4a40-82d6-0dc49487ffc3",
   "metadata": {},
   "outputs": [],
   "source": [
    "def fetch_trending_videos(api_key, region_code='KE', max_results=500):\n",
    "    category_mapping = get_category_mapping(api_key, region_code)\n",
    "    youtube = build('youtube', 'v3', developerKey=api_key)\n",
    "    videos = []\n",
    "\n",
    "    request = youtube.videos().list(\n",
    "        part='snippet,contentDetails,statistics',\n",
    "        chart='mostPopular',\n",
    "        regionCode=region_code,\n",
    "        maxResults=50\n",
    "    )\n",
    "\n",
    "    while request and len(videos) < max_results:\n",
    "        response = request.execute()\n",
    "        \n",
    "        for item in response['items']:\n",
    "            category_id = item['snippet']['categoryId']\n",
    "            category_name = category_mapping.get(category_id, \"Unknown\")\n",
    "            \n",
    "            video_details = {\n",
    "                'video_id': item['id'],\n",
    "                'title': item['snippet']['title'],\n",
    "                'description': item['snippet']['description'],\n",
    "                'published_at': item['snippet']['publishedAt'],\n",
    "                'channel_id': item['snippet']['channelId'],\n",
    "                'channel_title': item['snippet']['channelTitle'],\n",
    "                'category_id': category_id,\n",
    "                'category_name': category_name,\n",
    "                'tags': item['snippet'].get('tags', []),\n",
    "                'duration': item['contentDetails']['duration'],\n",
    "                'definition': item['contentDetails']['definition'],\n",
    "                'caption': item['contentDetails'].get('caption', 'false'),\n",
    "                'view_count': item['statistics'].get('viewCount', 0),\n",
    "                'like_count': item['statistics'].get('likeCount', 0),\n",
    "                'favorite_count': item['statistics'].get('favoriteCount', 0),\n",
    "                'comment_count': item['statistics'].get('commentCount', 0)\n",
    "            }\n",
    "            videos.append(video_details)\n",
    "        \n",
    "        request = youtube.videos().list_next(request, response)\n",
    "\n",
    "    return videos[:max_results]"
   ]
  },
  {
   "cell_type": "code",
   "execution_count": 9,
   "id": "6bdde67e-4351-4d2e-b0d1-0c4caed22385",
   "metadata": {},
   "outputs": [],
   "source": [
    "# Save results to CSV\n",
    "def save_videos_to_csv(videos, filename):\n",
    "    df = pd.DataFrame(videos)\n",
    "    os.makedirs(os.path.dirname(filename), exist_ok=True)\n",
    "    df.to_csv(filename, index=False)\n",
    "    print(f\"Youtube Data saved to {filename}\")\n"
   ]
  },
  {
   "cell_type": "code",
   "execution_count": 11,
   "id": "79df733b-ebba-485b-a8ba-d42f88e0bbee",
   "metadata": {},
   "outputs": [],
   "source": [
    "# Main function\n",
    "def run_data_collection():\n",
    "    trending_videos = fetch_trending_videos(API_KEY)\n",
    "    save_videos_to_csv(trending_videos, \"data/raw/trending_videos_ke.csv\")"
   ]
  },
  {
   "cell_type": "code",
   "execution_count": 12,
   "id": "8b8d97c4-73f9-475f-875e-f0f4f8fc4aea",
   "metadata": {},
   "outputs": [
    {
     "name": "stdout",
     "output_type": "stream",
     "text": [
      "Youtube Data saved to data/raw/trending_videos_ke.csv\n"
     ]
    }
   ],
   "source": [
    "# Run the main function\n",
    "run_data_collection()"
   ]
  },
  {
   "cell_type": "code",
   "execution_count": null,
   "id": "a6d7eb4f-9fc5-416c-9841-5f9b113ef487",
   "metadata": {},
   "outputs": [],
   "source": []
  }
 ],
 "metadata": {
  "kernelspec": {
   "display_name": "Python 3 (ipykernel)",
   "language": "python",
   "name": "python3"
  },
  "language_info": {
   "codemirror_mode": {
    "name": "ipython",
    "version": 3
   },
   "file_extension": ".py",
   "mimetype": "text/x-python",
   "name": "python",
   "nbconvert_exporter": "python",
   "pygments_lexer": "ipython3",
   "version": "3.13.5"
  }
 },
 "nbformat": 4,
 "nbformat_minor": 5
}
